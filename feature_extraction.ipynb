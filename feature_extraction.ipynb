{
 "cells": [
  {
   "cell_type": "code",
   "execution_count": 1,
   "id": "e263447c",
   "metadata": {},
   "outputs": [],
   "source": [
    "import pandas as pd\n",
    "import os\n",
    "import librosa\n",
    "import numpy as np\n",
    "from IPython.display import Audio\n",
    "import matplotlib.pyplot as plt"
   ]
  },
  {
   "cell_type": "code",
   "execution_count": 2,
   "id": "991f4fa8",
   "metadata": {},
   "outputs": [],
   "source": [
    "df = pd.read_csv('metadata/UrbanSound8K.csv')"
   ]
  },
  {
   "cell_type": "code",
   "execution_count": 3,
   "id": "30335358",
   "metadata": {},
   "outputs": [
    {
     "data": {
      "text/html": [
       "<div>\n",
       "<style scoped>\n",
       "    .dataframe tbody tr th:only-of-type {\n",
       "        vertical-align: middle;\n",
       "    }\n",
       "\n",
       "    .dataframe tbody tr th {\n",
       "        vertical-align: top;\n",
       "    }\n",
       "\n",
       "    .dataframe thead th {\n",
       "        text-align: right;\n",
       "    }\n",
       "</style>\n",
       "<table border=\"1\" class=\"dataframe\">\n",
       "  <thead>\n",
       "    <tr style=\"text-align: right;\">\n",
       "      <th></th>\n",
       "      <th>slice_file_name</th>\n",
       "      <th>fsID</th>\n",
       "      <th>start</th>\n",
       "      <th>end</th>\n",
       "      <th>salience</th>\n",
       "      <th>fold</th>\n",
       "      <th>classID</th>\n",
       "      <th>class</th>\n",
       "    </tr>\n",
       "  </thead>\n",
       "  <tbody>\n",
       "    <tr>\n",
       "      <th>0</th>\n",
       "      <td>100032-3-0-0.wav</td>\n",
       "      <td>100032</td>\n",
       "      <td>0.000000</td>\n",
       "      <td>0.317551</td>\n",
       "      <td>1</td>\n",
       "      <td>5</td>\n",
       "      <td>3</td>\n",
       "      <td>dog_bark</td>\n",
       "    </tr>\n",
       "    <tr>\n",
       "      <th>1</th>\n",
       "      <td>100263-2-0-117.wav</td>\n",
       "      <td>100263</td>\n",
       "      <td>58.500000</td>\n",
       "      <td>62.500000</td>\n",
       "      <td>1</td>\n",
       "      <td>5</td>\n",
       "      <td>2</td>\n",
       "      <td>children_playing</td>\n",
       "    </tr>\n",
       "    <tr>\n",
       "      <th>2</th>\n",
       "      <td>100263-2-0-121.wav</td>\n",
       "      <td>100263</td>\n",
       "      <td>60.500000</td>\n",
       "      <td>64.500000</td>\n",
       "      <td>1</td>\n",
       "      <td>5</td>\n",
       "      <td>2</td>\n",
       "      <td>children_playing</td>\n",
       "    </tr>\n",
       "    <tr>\n",
       "      <th>3</th>\n",
       "      <td>100263-2-0-126.wav</td>\n",
       "      <td>100263</td>\n",
       "      <td>63.000000</td>\n",
       "      <td>67.000000</td>\n",
       "      <td>1</td>\n",
       "      <td>5</td>\n",
       "      <td>2</td>\n",
       "      <td>children_playing</td>\n",
       "    </tr>\n",
       "    <tr>\n",
       "      <th>4</th>\n",
       "      <td>100263-2-0-137.wav</td>\n",
       "      <td>100263</td>\n",
       "      <td>68.500000</td>\n",
       "      <td>72.500000</td>\n",
       "      <td>1</td>\n",
       "      <td>5</td>\n",
       "      <td>2</td>\n",
       "      <td>children_playing</td>\n",
       "    </tr>\n",
       "    <tr>\n",
       "      <th>...</th>\n",
       "      <td>...</td>\n",
       "      <td>...</td>\n",
       "      <td>...</td>\n",
       "      <td>...</td>\n",
       "      <td>...</td>\n",
       "      <td>...</td>\n",
       "      <td>...</td>\n",
       "      <td>...</td>\n",
       "    </tr>\n",
       "    <tr>\n",
       "      <th>8727</th>\n",
       "      <td>99812-1-2-0.wav</td>\n",
       "      <td>99812</td>\n",
       "      <td>159.522205</td>\n",
       "      <td>163.522205</td>\n",
       "      <td>2</td>\n",
       "      <td>7</td>\n",
       "      <td>1</td>\n",
       "      <td>car_horn</td>\n",
       "    </tr>\n",
       "    <tr>\n",
       "      <th>8728</th>\n",
       "      <td>99812-1-3-0.wav</td>\n",
       "      <td>99812</td>\n",
       "      <td>181.142431</td>\n",
       "      <td>183.284976</td>\n",
       "      <td>2</td>\n",
       "      <td>7</td>\n",
       "      <td>1</td>\n",
       "      <td>car_horn</td>\n",
       "    </tr>\n",
       "    <tr>\n",
       "      <th>8729</th>\n",
       "      <td>99812-1-4-0.wav</td>\n",
       "      <td>99812</td>\n",
       "      <td>242.691902</td>\n",
       "      <td>246.197885</td>\n",
       "      <td>2</td>\n",
       "      <td>7</td>\n",
       "      <td>1</td>\n",
       "      <td>car_horn</td>\n",
       "    </tr>\n",
       "    <tr>\n",
       "      <th>8730</th>\n",
       "      <td>99812-1-5-0.wav</td>\n",
       "      <td>99812</td>\n",
       "      <td>253.209850</td>\n",
       "      <td>255.741948</td>\n",
       "      <td>2</td>\n",
       "      <td>7</td>\n",
       "      <td>1</td>\n",
       "      <td>car_horn</td>\n",
       "    </tr>\n",
       "    <tr>\n",
       "      <th>8731</th>\n",
       "      <td>99812-1-6-0.wav</td>\n",
       "      <td>99812</td>\n",
       "      <td>332.289233</td>\n",
       "      <td>334.821332</td>\n",
       "      <td>2</td>\n",
       "      <td>7</td>\n",
       "      <td>1</td>\n",
       "      <td>car_horn</td>\n",
       "    </tr>\n",
       "  </tbody>\n",
       "</table>\n",
       "<p>8732 rows × 8 columns</p>\n",
       "</div>"
      ],
      "text/plain": [
       "         slice_file_name    fsID       start         end  salience  fold  \\\n",
       "0       100032-3-0-0.wav  100032    0.000000    0.317551         1     5   \n",
       "1     100263-2-0-117.wav  100263   58.500000   62.500000         1     5   \n",
       "2     100263-2-0-121.wav  100263   60.500000   64.500000         1     5   \n",
       "3     100263-2-0-126.wav  100263   63.000000   67.000000         1     5   \n",
       "4     100263-2-0-137.wav  100263   68.500000   72.500000         1     5   \n",
       "...                  ...     ...         ...         ...       ...   ...   \n",
       "8727     99812-1-2-0.wav   99812  159.522205  163.522205         2     7   \n",
       "8728     99812-1-3-0.wav   99812  181.142431  183.284976         2     7   \n",
       "8729     99812-1-4-0.wav   99812  242.691902  246.197885         2     7   \n",
       "8730     99812-1-5-0.wav   99812  253.209850  255.741948         2     7   \n",
       "8731     99812-1-6-0.wav   99812  332.289233  334.821332         2     7   \n",
       "\n",
       "      classID             class  \n",
       "0           3          dog_bark  \n",
       "1           2  children_playing  \n",
       "2           2  children_playing  \n",
       "3           2  children_playing  \n",
       "4           2  children_playing  \n",
       "...       ...               ...  \n",
       "8727        1          car_horn  \n",
       "8728        1          car_horn  \n",
       "8729        1          car_horn  \n",
       "8730        1          car_horn  \n",
       "8731        1          car_horn  \n",
       "\n",
       "[8732 rows x 8 columns]"
      ]
     },
     "execution_count": 3,
     "metadata": {},
     "output_type": "execute_result"
    }
   ],
   "source": [
    "df"
   ]
  },
  {
   "cell_type": "code",
   "execution_count": 4,
   "id": "5afbc488",
   "metadata": {},
   "outputs": [],
   "source": [
    "list1=[]\n",
    "list2=[]\n",
    "list3=[]\n",
    "list4=[]\n",
    "list5=[]\n",
    "list6=[]\n",
    "list7=[]\n",
    "list8=[]\n",
    "list9=[]\n",
    "list10=[]\n",
    "\n",
    "fold1 = 'audio/fold1'\n",
    "list1 = os.listdir(fold1)\n",
    "\n",
    "fold2 = 'audio/fold2'\n",
    "list2 = os.listdir(fold2)\n",
    "\n",
    "fold3 = 'audio/fold3'\n",
    "list3 = os.listdir(fold3)\n",
    "\n",
    "fold4 = 'audio/fold4'\n",
    "list4 = os.listdir(fold4)\n",
    "\n",
    "fold5 = 'audio/fold5'\n",
    "list5 = os.listdir(fold5)\n",
    "\n",
    "fold6 = 'audio/fold6'\n",
    "list6 = os.listdir(fold6)\n",
    "\n",
    "fold7 = 'audio/fold7'\n",
    "list7 = os.listdir(fold7)\n",
    "\n",
    "fold8 = 'audio/fold8'\n",
    "list8 = os.listdir(fold8)\n",
    "\n",
    "fold9 = 'audio/fold9'\n",
    "list9 = os.listdir(fold9)\n",
    "\n",
    "fold10 = 'audio/fold10'\n",
    "list10 = os.listdir(fold10)\n",
    "\n",
    "lista = list1 + list2 + list3 + list4 + list5 + list6 + list7 + list8 + list9 + list10"
   ]
  },
  {
   "cell_type": "code",
   "execution_count": 5,
   "id": "e79d896e",
   "metadata": {},
   "outputs": [],
   "source": [
    "#ha excecoes: audio/fold[]/.DS_store\n",
    "\n",
    "def path_class(filename):\n",
    "    excerpt = df[df['slice_file_name'] == filename]\n",
    "    \n",
    "    if not excerpt.empty:\n",
    "        path_name = os.path.join('audio', 'fold'+str(excerpt.fold.values[0]), filename)\n",
    "        return path_name\n",
    "    \n",
    "    else:\n",
    "        return None"
   ]
  },
  {
   "cell_type": "code",
   "execution_count": 6,
   "id": "a0161875",
   "metadata": {},
   "outputs": [],
   "source": [
    "path_list=[]\n",
    "for i in lista:\n",
    "    p = path_class(i)\n",
    "    if (p!=None):\n",
    "        path_list.append(p)"
   ]
  },
  {
   "cell_type": "code",
   "execution_count": 7,
   "id": "e81b6ca8",
   "metadata": {},
   "outputs": [],
   "source": [
    "# Normalização min-max\n",
    "def normalize(y):\n",
    "    min_val = np.min(y)\n",
    "    max_val = np.max(y)\n",
    "    ynormalized = (y - min_val) / (max_val - min_val)\n",
    "    return ynormalized\n",
    "\n",
    "############################################################################################################################\n",
    "    #Ver com qual normalizacao da melhor accuracy\n",
    "        \n",
    "    #Normalizacao z-score -> nao sei se funciona imprimiu uma wave de 5-10 no y-axis\n",
    "    #media = np.mean(y_extended)\n",
    "    #desvio_padrao = np.std(y_extended)\n",
    "    #ynormalized2 = (y_extended - media) / desvio_padrao\n",
    "        \n",
    "    #Normalizacao por amplitude maxima\n",
    "    #max_amplitude = np.max(np.abs(y_extended))\n",
    "    #ynormalized3 = y_extended / max_amplitude\n",
    "        \n",
    "    #Nao se pode usar\n",
    "    #Normalizacao logaritmica \n",
    "    #ynormalized4 = np.log(1 + y_extended)\n",
    "        \n",
    "    #Normalizacao Tangente Hiperbólica\n",
    "    #ynormalized5 = np.tanh(y_extended)\n",
    "        \n",
    "    #Normalizacao L1\n",
    "    #ynormalized6 = y_extended / np.sum(np.abs(y_extended))\n",
    "        \n",
    "    #Normalizacao L2\n",
    "    #ynormalized7 = y_extended / np.sqrt(np.sum(y_extended**2))\n",
    "############################################################################################################################"
   ]
  },
  {
   "cell_type": "markdown",
   "id": "02732bc9",
   "metadata": {},
   "source": [
    "# Wave"
   ]
  },
  {
   "cell_type": "code",
   "execution_count": 8,
   "id": "5e78fbe1",
   "metadata": {},
   "outputs": [],
   "source": [
    "sr = 44100\n",
    "hop_length=round(sr*0.0125)\n",
    "window_length=round(sr*0.023)\n",
    "#n_fft=2**14"
   ]
  },
  {
   "cell_type": "code",
   "execution_count": 9,
   "id": "3fe08649",
   "metadata": {},
   "outputs": [],
   "source": [
    "#dataset=np.zeros(shape=[len(path_list),4*sr])"
   ]
  },
  {
   "cell_type": "code",
   "execution_count": 10,
   "id": "77a13bbf",
   "metadata": {},
   "outputs": [],
   "source": [
    "#resample_sr = 44100 #sample rate padrao\n",
    "#desired = 4.0 #tempo do audio padrao\n",
    "#i=0\n",
    "#for f in path_list:\n",
    "    #f = f'{f}'\n",
    "    #y, previous_sr = librosa.load(f, sr=None)\n",
    "    #y_resample =librosa.resample(y, orig_sr=previous_sr, target_sr=sr)\n",
    "    \n",
    "    #if len(y_resample)<4*sr:\n",
    "        # Calculate the number of times to repeat the audio\n",
    "        #repeat = int(np.ceil(4 * sr / len(y_resample)))\n",
    "\n",
    "        # Repeat the audio\n",
    "       # y_extended = np.tile(y_resample, repeat)\n",
    "\n",
    "        # Trim the array to the desired duration\n",
    "        #y_extended = y_extended[:int(4 * sr)]\n",
    "\n",
    "    #else:\n",
    "       # y_extended = y_resample\n",
    "        \n",
    "    #ynormalized = normalize(y_extended)\n",
    "    #ynormalized = ynormalized[:4*sr]\n",
    "    #dataset[i] = ynormalized"
   ]
  },
  {
   "cell_type": "code",
   "execution_count": 11,
   "id": "529af9e6",
   "metadata": {},
   "outputs": [],
   "source": [
    "#ynormalized.shape"
   ]
  },
  {
   "cell_type": "code",
   "execution_count": 12,
   "id": "b99810ad",
   "metadata": {
    "scrolled": false
   },
   "outputs": [],
   "source": [
    "#plt.plot(np.asarray(list(range(4*sr)))/sr,ynormalized)"
   ]
  },
  {
   "cell_type": "code",
   "execution_count": 13,
   "id": "83fb5b16",
   "metadata": {},
   "outputs": [],
   "source": [
    "def wave(y,n_fft):\n",
    "    \n",
    "    if len(y)<4*sr:\n",
    "        # Calculate the number of times to repeat the audio\n",
    "        repeat = int(np.ceil(4 * sr / len(y)))\n",
    "\n",
    "        # Repeat the audio\n",
    "        y_extended = np.tile(y, repeat)\n",
    "\n",
    "        # Trim the array to the desired duration\n",
    "        y_extended = y_extended[:int(4 * sr)]\n",
    "\n",
    "    else:\n",
    "        y_extended = y\n",
    "        \n",
    "    ynormalized = normalize(y_extended)\n",
    "    ynormalized = ynormalized[:4*sr]\n",
    "    return ynormalized"
   ]
  },
  {
   "cell_type": "markdown",
   "id": "b95e7059",
   "metadata": {},
   "source": [
    "# MFCCs c/ n_mfcc=40"
   ]
  },
  {
   "cell_type": "code",
   "execution_count": 14,
   "id": "b54ec247",
   "metadata": {},
   "outputs": [],
   "source": [
    "n_mfcc=40\n",
    "mfcc_time_size = 4*sr//hop_length+1"
   ]
  },
  {
   "cell_type": "code",
   "execution_count": 15,
   "id": "00ec4631",
   "metadata": {},
   "outputs": [],
   "source": [
    "#dataset_mfcc=np.zeros(shape=[len(path_list),n_mfcc,mfcc_time_size])"
   ]
  },
  {
   "cell_type": "code",
   "execution_count": 16,
   "id": "eb1880c9",
   "metadata": {},
   "outputs": [],
   "source": [
    "# MFCCs\n",
    "\n",
    "#mfcc = librosa.feature.mfcc(y=y_resample,sr=sr,n_fft=len(y),hop_length=hop_length,win_length=window_length,n_mfcc=n_mfcc)\n",
    "#y_mfcc40 = normalize(mfcc)\n",
    "#dataset_mfcc[i] = y_mfcc"
   ]
  },
  {
   "cell_type": "code",
   "execution_count": 17,
   "id": "cdc8cf03",
   "metadata": {},
   "outputs": [],
   "source": [
    "#y_mfcc40.shape"
   ]
  },
  {
   "cell_type": "code",
   "execution_count": 18,
   "id": "f31fac15",
   "metadata": {
    "scrolled": false
   },
   "outputs": [],
   "source": [
    "#librosa.display.specshow(y_mfcc40, sr=sr, x_axis='time', y_axis='log')"
   ]
  },
  {
   "cell_type": "code",
   "execution_count": 42,
   "id": "38d1e6dd",
   "metadata": {},
   "outputs": [],
   "source": [
    "def mfcc40(y,n_fft,n_mfcc=40):\n",
    "    mfcc = librosa.feature.mfcc(y=y,sr=sr,n_fft=n_fft,hop_length=hop_length,win_length=window_length,n_mfcc=n_mfcc)\n",
    "    y_mfcc40 = normalize(mfcc)\n",
    "    return y_mfcc40"
   ]
  },
  {
   "cell_type": "markdown",
   "id": "cab2e135",
   "metadata": {},
   "source": [
    "# MFCCs c/ n_mfcc=13"
   ]
  },
  {
   "cell_type": "code",
   "execution_count": 43,
   "id": "aaf3a67a",
   "metadata": {},
   "outputs": [],
   "source": [
    "n_mfcc=13"
   ]
  },
  {
   "cell_type": "code",
   "execution_count": 44,
   "id": "7d476261",
   "metadata": {},
   "outputs": [],
   "source": [
    "# MFCCs\n",
    "#mfcc = librosa.feature.mfcc(y=y_resample,sr=sr,n_fft=len(y),hop_length=hop_length,win_length=window_length,n_mfcc=n_mfcc)\n",
    "#y_mfcc13 = normalize(mfcc)\n",
    "#dataset_mfcc[i] = y_mfcc"
   ]
  },
  {
   "cell_type": "code",
   "execution_count": 45,
   "id": "f32d4afd",
   "metadata": {},
   "outputs": [],
   "source": [
    "#y_mfcc13.shape"
   ]
  },
  {
   "cell_type": "code",
   "execution_count": 46,
   "id": "b523bd44",
   "metadata": {},
   "outputs": [],
   "source": [
    "#librosa.display.specshow(y_mfcc13, sr=sr, x_axis='time', y_axis='log')"
   ]
  },
  {
   "cell_type": "code",
   "execution_count": 47,
   "id": "378eaeb5",
   "metadata": {},
   "outputs": [],
   "source": [
    "def mfcc13(y,n_fft,n_mfcc=13):\n",
    "    mfcc = librosa.feature.mfcc(y=y,sr=sr,n_fft=n_fft,hop_length=hop_length,win_length=window_length,n_mfcc=n_mfcc)\n",
    "    y_mfcc13 = normalize(mfcc)\n",
    "    return y_mfcc13"
   ]
  },
  {
   "cell_type": "markdown",
   "id": "b05d06a6",
   "metadata": {},
   "source": [
    "# MFCCs DELTA"
   ]
  },
  {
   "cell_type": "markdown",
   "id": "92d466d8",
   "metadata": {},
   "source": [
    "Delta features focus on noisy data."
   ]
  },
  {
   "cell_type": "code",
   "execution_count": 48,
   "id": "23c659ea",
   "metadata": {},
   "outputs": [],
   "source": [
    "#mfcc_delta = librosa.feature.delta(y_mfcc13)\n",
    "#y_mfcc_delta = normalize(mfcc_delta)"
   ]
  },
  {
   "cell_type": "code",
   "execution_count": 49,
   "id": "ad729aaa",
   "metadata": {},
   "outputs": [],
   "source": [
    "#y_mfcc_delta.shape"
   ]
  },
  {
   "cell_type": "code",
   "execution_count": 50,
   "id": "4df36254",
   "metadata": {},
   "outputs": [],
   "source": [
    "#Observar y_mfcc_delta\n",
    "#librosa.display.specshow(y_mfcc_delta, sr=sr, x_axis='time', y_axis='log')"
   ]
  },
  {
   "cell_type": "code",
   "execution_count": 91,
   "id": "e5810205",
   "metadata": {},
   "outputs": [],
   "source": [
    "def mfcc_delta(y,n_fft,n_mfcc=13):\n",
    "    y_mfcc13 = librosa.feature.mfcc(y=y,sr=sr,n_fft=n_fft,hop_length=hop_length,win_length=window_length,n_mfcc=n_mfcc)\n",
    "    mfcc_delta = librosa.feature.delta(y_mfcc13, width=3)\n",
    "    y_mfcc_delta = normalize(mfcc_delta)\n",
    "    \n",
    "    return y_mfcc_delta"
   ]
  },
  {
   "cell_type": "markdown",
   "id": "1d96e429",
   "metadata": {},
   "source": [
    "# MFCCs DELTA Ordem 2"
   ]
  },
  {
   "cell_type": "code",
   "execution_count": 92,
   "id": "f0888fb2",
   "metadata": {},
   "outputs": [],
   "source": [
    "#mfcc_delta2 = librosa.feature.delta(y_mfcc13, order=2)\n",
    "#y_mfcc_delta2 = normalize(mfcc_delta2)"
   ]
  },
  {
   "cell_type": "code",
   "execution_count": 93,
   "id": "c35e6342",
   "metadata": {},
   "outputs": [],
   "source": [
    "#y_mfcc_delta2.shape"
   ]
  },
  {
   "cell_type": "code",
   "execution_count": 94,
   "id": "7aed4092",
   "metadata": {},
   "outputs": [],
   "source": [
    "#Observar y_mfcc_delta2\n",
    "#librosa.display.specshow(y_mfcc_delta2, sr=sr, x_axis='time', y_axis='log')"
   ]
  },
  {
   "cell_type": "code",
   "execution_count": 95,
   "id": "34c0b9f1",
   "metadata": {},
   "outputs": [],
   "source": [
    "def mfcc_delta2(y,n_fft, n_mfcc=13):\n",
    "    y_mfcc13 = librosa.feature.mfcc(y=y,sr=sr,n_fft=n_fft,hop_length=hop_length,win_length=window_length,n_mfcc=n_mfcc)\n",
    "    mfcc_delta2 = librosa.feature.delta(y_mfcc13, order=2, width=3)\n",
    "    y_mfcc_delta2 = normalize(mfcc_delta2)\n",
    "    \n",
    "    return y_mfcc_delta2"
   ]
  },
  {
   "cell_type": "markdown",
   "id": "4c8acb39",
   "metadata": {},
   "source": [
    "# SPECTROGRAM"
   ]
  },
  {
   "cell_type": "code",
   "execution_count": 57,
   "id": "5ad78604",
   "metadata": {},
   "outputs": [],
   "source": [
    "#dataset_spectrogram = np.empty((len(path_list), 8193, 321), dtype=np.float32)"
   ]
  },
  {
   "cell_type": "code",
   "execution_count": 58,
   "id": "e4870ada",
   "metadata": {},
   "outputs": [],
   "source": [
    "#Spectogram\n",
    "\n",
    "#stft = librosa.core.stft(ynormalized, hop_length = hop_length, n_fft = len(y))\n",
    "#spectrogram = np.abs(stft)\n",
    "#y_spectrogram = normalize(spectrogram)\n",
    "#dataset_spectrogram[i] = y_spectrogram"
   ]
  },
  {
   "cell_type": "code",
   "execution_count": 59,
   "id": "c0c58563",
   "metadata": {},
   "outputs": [],
   "source": [
    "#y_spectrogram.shape"
   ]
  },
  {
   "cell_type": "code",
   "execution_count": 60,
   "id": "7220b1ff",
   "metadata": {},
   "outputs": [],
   "source": [
    "#librosa.display.specshow(y_spectrogram,sr=sr,hop_length=hop_length,x_axis='time',y_axis='linear')"
   ]
  },
  {
   "cell_type": "code",
   "execution_count": 61,
   "id": "0e23ef8b",
   "metadata": {},
   "outputs": [],
   "source": [
    "def spectrogram(y,n_fft):\n",
    "    stft = librosa.core.stft(y, hop_length = hop_length, n_fft = n_fft)\n",
    "    spectrogram = np.abs(stft)\n",
    "    y_spectrogram = normalize(spectrogram)\n",
    "    \n",
    "    return y_spectrogram"
   ]
  },
  {
   "cell_type": "markdown",
   "id": "ad7e43ea",
   "metadata": {},
   "source": [
    "# LOG-SPECTROGRAM"
   ]
  },
  {
   "cell_type": "code",
   "execution_count": 62,
   "id": "d7dafcad",
   "metadata": {},
   "outputs": [],
   "source": [
    "#dataset_logspectrogram = np.empty((len(path_list), 8193, 321), dtype=np.float32)"
   ]
  },
  {
   "cell_type": "code",
   "execution_count": 63,
   "id": "939973ee",
   "metadata": {},
   "outputs": [],
   "source": [
    "#Log-Spectogram\n",
    "\n",
    "#logspectrogram = librosa.amplitude_to_db(y_spectrogram)\n",
    "#y_logspectrogram = normalize(logspectrogram)\n",
    "#dataset_logspectrogram[i] = y_logspectrogram"
   ]
  },
  {
   "cell_type": "code",
   "execution_count": 64,
   "id": "f717a08e",
   "metadata": {},
   "outputs": [],
   "source": [
    "#y_logspectrogram.shape"
   ]
  },
  {
   "cell_type": "code",
   "execution_count": 65,
   "id": "1403e16b",
   "metadata": {
    "scrolled": false
   },
   "outputs": [],
   "source": [
    "#librosa.display.specshow(y_logspectrogram,sr=sr,hop_length=hop_length,x_axis='time',y_axis='linear')"
   ]
  },
  {
   "cell_type": "code",
   "execution_count": 66,
   "id": "4c76b417",
   "metadata": {},
   "outputs": [],
   "source": [
    "def logspectrogram(y,n_fft):\n",
    "    stft = librosa.core.stft(y, hop_length = hop_length, n_fft = n_fft)\n",
    "    spectrogram = np.abs(stft)\n",
    "    logspectrogram = librosa.amplitude_to_db(spectrogram)\n",
    "    y_logspectrogram = normalize(logspectrogram)\n",
    "    \n",
    "    return y_logspectrogram"
   ]
  },
  {
   "cell_type": "markdown",
   "id": "20ae331f",
   "metadata": {},
   "source": [
    "# MELSPECTROGRAM"
   ]
  },
  {
   "cell_type": "code",
   "execution_count": 67,
   "id": "2770d213",
   "metadata": {},
   "outputs": [],
   "source": [
    "#melstft = librosa.feature.melspectrogram(S=y_spectrogram, sr=sr)\n",
    "#y_melstft = normalize(melstft)"
   ]
  },
  {
   "cell_type": "code",
   "execution_count": 68,
   "id": "43f85075",
   "metadata": {},
   "outputs": [],
   "source": [
    "#y_melstft.shape"
   ]
  },
  {
   "cell_type": "code",
   "execution_count": 69,
   "id": "488f2f28",
   "metadata": {},
   "outputs": [],
   "source": [
    "#librosa.display.specshow(y_melstft,sr=sr,hop_length=hop_length,x_axis='time',y_axis='linear')"
   ]
  },
  {
   "cell_type": "code",
   "execution_count": 70,
   "id": "854eb9e8",
   "metadata": {},
   "outputs": [],
   "source": [
    "def melspectrogram(y,n_fft):\n",
    "    stft = librosa.core.stft(y, hop_length = hop_length, n_fft = n_fft)\n",
    "    spectrogram = np.abs(stft)\n",
    "    melstft = librosa.feature.melspectrogram(S=spectrogram, sr=sr)\n",
    "    y_melstft = normalize(melstft)\n",
    "    \n",
    "    return y_melstft"
   ]
  },
  {
   "cell_type": "markdown",
   "id": "8bb93bca",
   "metadata": {},
   "source": [
    "# MELSPECTROGRAM DB"
   ]
  },
  {
   "cell_type": "code",
   "execution_count": 71,
   "id": "adab2152",
   "metadata": {},
   "outputs": [],
   "source": [
    "#melstft_db = librosa.power_to_db(y_melstft, ref=np.max)\n",
    "#y_melstft_db = normalize(melstft_db)"
   ]
  },
  {
   "cell_type": "code",
   "execution_count": 72,
   "id": "cc0249c4",
   "metadata": {
    "scrolled": true
   },
   "outputs": [],
   "source": [
    "#y_melstft_db.shape"
   ]
  },
  {
   "cell_type": "code",
   "execution_count": 73,
   "id": "8aa44fa7",
   "metadata": {},
   "outputs": [],
   "source": [
    "#librosa.display.specshow(y_melstft_db,sr=sr,hop_length=hop_length,x_axis='time',y_axis='linear')"
   ]
  },
  {
   "cell_type": "code",
   "execution_count": 83,
   "id": "0718f8a3",
   "metadata": {},
   "outputs": [],
   "source": [
    "def melspectrogram_db(y,n_fft):\n",
    "    stft = librosa.core.stft(y, hop_length = hop_length, n_fft = n_fft)\n",
    "    spectrogram = np.abs(stft)\n",
    "    melstft = librosa.feature.melspectrogram(S=spectrogram, sr=sr)\n",
    "    melstft_db = librosa.power_to_db(melstft, ref=np.max)\n",
    "    y_melstft_db = normalize(melstft_db)\n",
    "    \n",
    "    return y_melstft_db"
   ]
  },
  {
   "cell_type": "markdown",
   "id": "eb07ac52",
   "metadata": {},
   "source": [
    "# CHROMA SPECTROGRAM"
   ]
  },
  {
   "cell_type": "code",
   "execution_count": 84,
   "id": "14036201",
   "metadata": {},
   "outputs": [],
   "source": [
    "#chroma = librosa.feature.chroma_stft(y=ynormalized, S=y_spectrogram, sr=sr)\n",
    "#y_chroma = normalize(chroma)"
   ]
  },
  {
   "cell_type": "code",
   "execution_count": 85,
   "id": "7619cae5",
   "metadata": {},
   "outputs": [],
   "source": [
    "#y_chroma.shape"
   ]
  },
  {
   "cell_type": "code",
   "execution_count": 86,
   "id": "bcdde1e9",
   "metadata": {
    "scrolled": false
   },
   "outputs": [],
   "source": [
    "#librosa.display.specshow(y_chroma,sr=sr,hop_length=hop_length,x_axis='time',y_axis='linear')"
   ]
  },
  {
   "cell_type": "code",
   "execution_count": 87,
   "id": "866de704",
   "metadata": {},
   "outputs": [],
   "source": [
    "def chromaspectrogram(y,n_fft):\n",
    "    stft = librosa.core.stft(y, hop_length = hop_length, n_fft = n_fft)\n",
    "    spectrogram = np.abs(stft)\n",
    "    chroma = librosa.feature.chroma_stft(y=y, S=spectrogram, sr=sr)\n",
    "    y_chroma = normalize(chroma)\n",
    "    \n",
    "    return y_chroma"
   ]
  },
  {
   "cell_type": "markdown",
   "id": "0167f74b",
   "metadata": {},
   "source": [
    "# Resultado de vários tipos de normalização"
   ]
  },
  {
   "cell_type": "code",
   "execution_count": 88,
   "id": "cd3716b2",
   "metadata": {
    "scrolled": false
   },
   "outputs": [],
   "source": [
    "#Mostrar normalizacoes\n",
    "#index=0\n",
    "#plt.figure()\n",
    "#plt.plot(np.asarray(list(range(4*sr)))/sr,dataset[index])\n",
    "#plt.imshow(dataset_mfcc[index])\n",
    "#plt.show()"
   ]
  },
  {
   "cell_type": "markdown",
   "id": "4e4b7771",
   "metadata": {},
   "source": [
    "# Imagens -> DataFrame -> csv"
   ]
  },
  {
   "cell_type": "markdown",
   "id": "9ade5d42",
   "metadata": {},
   "source": [
    "Testei com 1 exemplo só"
   ]
  },
  {
   "cell_type": "code",
   "execution_count": 89,
   "id": "e0f96931",
   "metadata": {},
   "outputs": [],
   "source": [
    "def calculate_n_fft(signal_length, min_n_fft=2**10, max_n_fft=2**14):\n",
    "    n_fft = max(min_n_fft, min(max_n_fft, int(signal_length * 0.02)))\n",
    "    \n",
    "    n_fft = 2 ** (int(np.log2(n_fft)))\n",
    "    return n_fft"
   ]
  },
  {
   "cell_type": "code",
   "execution_count": 96,
   "id": "bc93f129",
   "metadata": {
    "scrolled": false
   },
   "outputs": [
    {
     "name": "stderr",
     "output_type": "stream",
     "text": [
      "/Users/mafaldaaires/anaconda3/envs/ACII/lib/python3.11/site-packages/librosa/core/pitch.py:101: UserWarning: Trying to estimate tuning from empty frequency set.\n",
      "  return pitch_tuning(\n"
     ]
    }
   ],
   "source": [
    "newdata = pd.DataFrame()\n",
    "newdata['wave'] = [np.zeros(4*sr) for _ in range(len(path_list))]\n",
    "newdata['mfcc40'] = [np.zeros((40, mfcc_time_size)) for _ in range(len(path_list))]\n",
    "newdata['mfcc13'] = [np.zeros((13, mfcc_time_size)) for _ in range(len(path_list))]\n",
    "newdata['spectrogram'] = [np.empty((88201, 321), dtype=np.float32) for _ in range(len(path_list))]\n",
    "newdata['logspectrogram'] = [np.empty((88201, 321), dtype=np.float32) for _ in range(len(path_list))]\n",
    "newdata['melspectrogram'] = [np.empty((128, 321), dtype=np.float32) for _ in range(len(path_list))]\n",
    "newdata['melspectrogram_db'] = [np.empty((128, 321), dtype=np.float32) for _ in range(len(path_list))]\n",
    "newdata['melspectrogram_delta'] = [np.empty((13, 321), dtype=np.float32) for _ in range(len(path_list))]\n",
    "newdata['melspectrogram_delta2'] = [np.empty((13, 321), dtype=np.float32) for _ in range(len(path_list))]\n",
    "newdata['chromaspectrogram'] = [np.empty((12, 321), dtype=np.float32) for _ in range(len(path_list))]\n",
    "i=0\n",
    "for f in path_list:\n",
    "    #print(f)\n",
    "    f = f'{f}'\n",
    "    y, previous_sr = librosa.load(f, sr=None)\n",
    "    y_resample =librosa.resample(y, orig_sr=previous_sr, target_sr=sr)\n",
    "    \n",
    "    n_fft = calculate_n_fft(len(y_resample))\n",
    "    \n",
    "    path_parts = f.split('/')\n",
    "    arquivo = path_parts[-1]\n",
    "    \n",
    "    if arquivo in df['slice_file_name'].values:\n",
    "        fold = df[df['slice_file_name'] == arquivo].iloc[0]['fold']\n",
    "        classe = df[df['slice_file_name'] == arquivo].iloc[0]['class']\n",
    "        fsID = df[df['slice_file_name'] == arquivo].iloc[0]['fsID']\n",
    "        salience = df[df['slice_file_name'] == arquivo].iloc[0]['salience']\n",
    "        classID = df[df['slice_file_name'] == arquivo].iloc[0]['classID']\n",
    "        \n",
    "\n",
    "        newdata.at[i, 'file'] = arquivo\n",
    "        newdata.at[i, 'fsID'] = fsID\n",
    "        newdata.at[i, 'salience'] = salience\n",
    "        newdata.at[i, 'fold'] = fold\n",
    "        newdata.at[i, 'classID'] = classID\n",
    "        newdata.at[i, 'class'] = classe\n",
    "                     \n",
    "    # np.column_stack é usado para combinar os valores do eixo x (np.asarray(list(range(4 * sr))) / sr) \n",
    "    # com os valores do eixo y (dataset[index]) em uma única matriz (ver plot)\n",
    "    newdata.at[i, 'wave'] = np.column_stack((np.asarray(list(range(4 * sr))) / sr, wave(y_resample,n_fft)))\n",
    "    \n",
    "    # MFCCs 40\n",
    "    newdata.at[i, 'mfcc40'] = mfcc40(y_resample,n_fft)\n",
    "\n",
    "    # MFCCs 13\n",
    "    newdata.at[i, 'mfcc13'] = mfcc13(y_resample,n_fft)\n",
    "    \n",
    "    #Spectrogram\n",
    "    newdata.at[i, 'spectrogram'] = spectrogram(y_resample,n_fft)\n",
    "    \n",
    "    #Log spectrogram\n",
    "    newdata.at[i, 'logspectrogram'] = logspectrogram(y_resample,n_fft)\n",
    "\n",
    "    #Chroma spectrogram\n",
    "    newdata.at[i, 'chromaspectrogram'] = chromaspectrogram(y_resample,n_fft)\n",
    "\n",
    "    #Mel spectrogram\n",
    "    newdata.at[i, 'melspectrogram'] = melspectrogram(y_resample,n_fft)\n",
    "\n",
    "    #Mel spectrogram DB\n",
    "    newdata.at[i, 'melspectrogram_db'] = melspectrogram_db(y_resample,n_fft)\n",
    "\n",
    "    #Mel spectrogram delta\n",
    "    newdata.at[i, 'melspectrogram_delta'] = mfcc_delta(y_resample,n_fft)\n",
    "\n",
    "    #Mel spectrogram delta ordem 2\n",
    "    newdata.at[i, 'melspectrogram_delta2'] = mfcc_delta2(y_resample,n_fft)\n",
    "        \n",
    "    i+=1\n",
    "    \n",
    "\n",
    "columns = ['file', 'fsID', 'salience', 'fold', 'wave', 'mfcc40', 'mfcc13', 'spectrogram', 'logspectrogram', 'chromaspectrogram', 'melspectrogram', 'melspectrogram_db', 'melspectrogram_delta', 'melspectrogram_delta2', 'classID', 'class']\n",
    "\n",
    "newdata = newdata[columns]"
   ]
  },
  {
   "cell_type": "code",
   "execution_count": 97,
   "id": "f1ea55de",
   "metadata": {},
   "outputs": [],
   "source": [
    "#float_format='%.0f' -> aparecia fold: 7.0 em vez de 7\n",
    "\n",
    "newdata.to_csv('features.csv', float_format='%.0f', index=False)"
   ]
  },
  {
   "cell_type": "code",
   "execution_count": 98,
   "id": "d8796691",
   "metadata": {
    "scrolled": true
   },
   "outputs": [],
   "source": [
    "df2 = pd.read_csv('features.csv')"
   ]
  },
  {
   "cell_type": "code",
   "execution_count": 100,
   "id": "63dc9741",
   "metadata": {},
   "outputs": [
    {
     "data": {
      "text/html": [
       "<div>\n",
       "<style scoped>\n",
       "    .dataframe tbody tr th:only-of-type {\n",
       "        vertical-align: middle;\n",
       "    }\n",
       "\n",
       "    .dataframe tbody tr th {\n",
       "        vertical-align: top;\n",
       "    }\n",
       "\n",
       "    .dataframe thead th {\n",
       "        text-align: right;\n",
       "    }\n",
       "</style>\n",
       "<table border=\"1\" class=\"dataframe\">\n",
       "  <thead>\n",
       "    <tr style=\"text-align: right;\">\n",
       "      <th></th>\n",
       "      <th>file</th>\n",
       "      <th>fsID</th>\n",
       "      <th>salience</th>\n",
       "      <th>fold</th>\n",
       "      <th>wave</th>\n",
       "      <th>mfcc40</th>\n",
       "      <th>mfcc13</th>\n",
       "      <th>spectrogram</th>\n",
       "      <th>logspectrogram</th>\n",
       "      <th>chromaspectrogram</th>\n",
       "      <th>melspectrogram</th>\n",
       "      <th>melspectrogram_db</th>\n",
       "      <th>melspectrogram_delta</th>\n",
       "      <th>melspectrogram_delta2</th>\n",
       "      <th>classID</th>\n",
       "      <th>class</th>\n",
       "    </tr>\n",
       "  </thead>\n",
       "  <tbody>\n",
       "    <tr>\n",
       "      <th>0</th>\n",
       "      <td>135776-2-0-49.wav</td>\n",
       "      <td>135776</td>\n",
       "      <td>2</td>\n",
       "      <td>1</td>\n",
       "      <td>[[0.00000000e+00 4.98484403e-01]\\n [2.26757370...</td>\n",
       "      <td>[[0.09057432 0.04578172 0.05073741 ... 0.06115...</td>\n",
       "      <td>[[0.09057432 0.04578172 0.05073741 ... 0.06115...</td>\n",
       "      <td>[[5.2389177e-03 2.0281009e-03 2.9988064e-06 .....</td>\n",
       "      <td>[[0.42981037 0.3267724  0.         ... 0.     ...</td>\n",
       "      <td>[[0.40708748 0.4084915  0.441707   ... 0.30609...</td>\n",
       "      <td>[[7.4704005e-03 2.6792693e-03 1.4090404e-03 .....</td>\n",
       "      <td>[[0.62217146 0.54309154 0.49356484 ... 0.52826...</td>\n",
       "      <td>[[0.13463265 0.13463265 0.44799814 ... 0.19541...</td>\n",
       "      <td>[[0.8020765  0.8020765  0.5007016  ... 0.46830...</td>\n",
       "      <td>2</td>\n",
       "      <td>children_playing</td>\n",
       "    </tr>\n",
       "    <tr>\n",
       "      <th>1</th>\n",
       "      <td>46654-6-0-0.wav</td>\n",
       "      <td>46654</td>\n",
       "      <td>1</td>\n",
       "      <td>1</td>\n",
       "      <td>[[0.00000000e+00 5.00837147e-01]\\n [2.26757370...</td>\n",
       "      <td>[[0.         0.0195949  0.02005564 ... 0.21860...</td>\n",
       "      <td>[[0.         0.0195949  0.02005564 ... 0.21860...</td>\n",
       "      <td>[[2.7502233e-03 5.2085049e-03 8.8048447e-03 .....</td>\n",
       "      <td>[[0.35984313 0.42917886 0.48618078 ... 0.43005...</td>\n",
       "      <td>[[0.89699185 0.7629591  0.7838202  ... 1.     ...</td>\n",
       "      <td>[[4.2010704e-03 7.8280270e-03 1.1373262e-02 .....</td>\n",
       "      <td>[[0.60325253 0.64836794 0.6754488  ... 0.64498...</td>\n",
       "      <td>[[0.31377184 0.31377184 0.5420561  ... 0.30939...</td>\n",
       "      <td>[[0.702321   0.702321   1.         ... 0.72668...</td>\n",
       "      <td>6</td>\n",
       "      <td>gun_shot</td>\n",
       "    </tr>\n",
       "    <tr>\n",
       "      <th>2</th>\n",
       "      <td>57320-0-0-24.wav</td>\n",
       "      <td>57320</td>\n",
       "      <td>2</td>\n",
       "      <td>1</td>\n",
       "      <td>[[0.00000000e+00 6.43006980e-01]\\n [2.26757370...</td>\n",
       "      <td>[[0.2010938  0.14906687 0.15146255 ... 0.12646...</td>\n",
       "      <td>[[0.2010938  0.14906687 0.15146255 ... 0.12646...</td>\n",
       "      <td>[[3.8186234e-01 2.1851373e-01 6.7196351e-01 .....</td>\n",
       "      <td>[[0.89547694 0.83487016 0.9568365  ... 0.80351...</td>\n",
       "      <td>[[0.4412283  0.2856517  0.22538413 ... 0.28365...</td>\n",
       "      <td>[[5.4572225e-01 5.7083714e-01 2.7235401e-01 .....</td>\n",
       "      <td>[[0.9346018  0.9394601  0.8595633  ... 0.80871...</td>\n",
       "      <td>[[0.27737415 0.27737415 0.6147897  ... 0.32724...</td>\n",
       "      <td>[[0.68184817 0.68184817 0.63078374 ... 0.38793...</td>\n",
       "      <td>0</td>\n",
       "      <td>air_conditioner</td>\n",
       "    </tr>\n",
       "    <tr>\n",
       "      <th>3</th>\n",
       "      <td>134717-0-0-26.wav</td>\n",
       "      <td>134717</td>\n",
       "      <td>1</td>\n",
       "      <td>1</td>\n",
       "      <td>[[0.00000000e+00 5.98807812e-01]\\n [2.26757370...</td>\n",
       "      <td>[[0.10996855 0.02321094 0.03358533 ... 0.03935...</td>\n",
       "      <td>[[0.10996855 0.02321094 0.03358533 ... 0.03935...</td>\n",
       "      <td>[[8.7417243e-03 2.1909901e-03 2.8698114e-03 .....</td>\n",
       "      <td>[[0.48539934 0.33516032 0.3644635  ... 0.25042...</td>\n",
       "      <td>[[0.18083222 0.30614436 0.3777775  ... 0.64309...</td>\n",
       "      <td>[[1.0724894e-02 4.8451694e-03 5.4170354e-03 .....</td>\n",
       "      <td>[[0.65940017 0.59973764 0.608114   ... 0.66112...</td>\n",
       "      <td>[[0.         0.         0.5498908  ... 0.33616...</td>\n",
       "      <td>[[1.         1.         0.54705155 ... 0.60177...</td>\n",
       "      <td>0</td>\n",
       "      <td>air_conditioner</td>\n",
       "    </tr>\n",
       "    <tr>\n",
       "      <th>4</th>\n",
       "      <td>174276-7-5-0.wav</td>\n",
       "      <td>174276</td>\n",
       "      <td>1</td>\n",
       "      <td>1</td>\n",
       "      <td>[[0.00000000e+00 6.61713719e-01]\\n [2.26757370...</td>\n",
       "      <td>[[0.08159012 0.16007699 0.14213894 ... 0.04607...</td>\n",
       "      <td>[[0.08159012 0.16007699 0.14213894 ... 0.04607...</td>\n",
       "      <td>[[5.69521487e-02 3.32836546e-02 2.37823278e-02...</td>\n",
       "      <td>[[0.6888776  0.63055784 0.59406364 ... 0.49078...</td>\n",
       "      <td>[[1.         0.6860011  0.4716087  ... 0.62693...</td>\n",
       "      <td>[[7.7886350e-02 9.1004781e-02 8.2818374e-02 .....</td>\n",
       "      <td>[[0.787444   0.80040586 0.7925567  ... 0.82759...</td>\n",
       "      <td>[[0.9619477  0.9619477  0.64808625 ... 0.42583...</td>\n",
       "      <td>[[0.06081861 0.06081861 0.55305964 ... 0.33982...</td>\n",
       "      <td>7</td>\n",
       "      <td>jackhammer</td>\n",
       "    </tr>\n",
       "  </tbody>\n",
       "</table>\n",
       "</div>"
      ],
      "text/plain": [
       "                file    fsID  salience  fold  \\\n",
       "0  135776-2-0-49.wav  135776         2     1   \n",
       "1    46654-6-0-0.wav   46654         1     1   \n",
       "2   57320-0-0-24.wav   57320         2     1   \n",
       "3  134717-0-0-26.wav  134717         1     1   \n",
       "4   174276-7-5-0.wav  174276         1     1   \n",
       "\n",
       "                                                wave  \\\n",
       "0  [[0.00000000e+00 4.98484403e-01]\\n [2.26757370...   \n",
       "1  [[0.00000000e+00 5.00837147e-01]\\n [2.26757370...   \n",
       "2  [[0.00000000e+00 6.43006980e-01]\\n [2.26757370...   \n",
       "3  [[0.00000000e+00 5.98807812e-01]\\n [2.26757370...   \n",
       "4  [[0.00000000e+00 6.61713719e-01]\\n [2.26757370...   \n",
       "\n",
       "                                              mfcc40  \\\n",
       "0  [[0.09057432 0.04578172 0.05073741 ... 0.06115...   \n",
       "1  [[0.         0.0195949  0.02005564 ... 0.21860...   \n",
       "2  [[0.2010938  0.14906687 0.15146255 ... 0.12646...   \n",
       "3  [[0.10996855 0.02321094 0.03358533 ... 0.03935...   \n",
       "4  [[0.08159012 0.16007699 0.14213894 ... 0.04607...   \n",
       "\n",
       "                                              mfcc13  \\\n",
       "0  [[0.09057432 0.04578172 0.05073741 ... 0.06115...   \n",
       "1  [[0.         0.0195949  0.02005564 ... 0.21860...   \n",
       "2  [[0.2010938  0.14906687 0.15146255 ... 0.12646...   \n",
       "3  [[0.10996855 0.02321094 0.03358533 ... 0.03935...   \n",
       "4  [[0.08159012 0.16007699 0.14213894 ... 0.04607...   \n",
       "\n",
       "                                         spectrogram  \\\n",
       "0  [[5.2389177e-03 2.0281009e-03 2.9988064e-06 .....   \n",
       "1  [[2.7502233e-03 5.2085049e-03 8.8048447e-03 .....   \n",
       "2  [[3.8186234e-01 2.1851373e-01 6.7196351e-01 .....   \n",
       "3  [[8.7417243e-03 2.1909901e-03 2.8698114e-03 .....   \n",
       "4  [[5.69521487e-02 3.32836546e-02 2.37823278e-02...   \n",
       "\n",
       "                                      logspectrogram  \\\n",
       "0  [[0.42981037 0.3267724  0.         ... 0.     ...   \n",
       "1  [[0.35984313 0.42917886 0.48618078 ... 0.43005...   \n",
       "2  [[0.89547694 0.83487016 0.9568365  ... 0.80351...   \n",
       "3  [[0.48539934 0.33516032 0.3644635  ... 0.25042...   \n",
       "4  [[0.6888776  0.63055784 0.59406364 ... 0.49078...   \n",
       "\n",
       "                                   chromaspectrogram  \\\n",
       "0  [[0.40708748 0.4084915  0.441707   ... 0.30609...   \n",
       "1  [[0.89699185 0.7629591  0.7838202  ... 1.     ...   \n",
       "2  [[0.4412283  0.2856517  0.22538413 ... 0.28365...   \n",
       "3  [[0.18083222 0.30614436 0.3777775  ... 0.64309...   \n",
       "4  [[1.         0.6860011  0.4716087  ... 0.62693...   \n",
       "\n",
       "                                      melspectrogram  \\\n",
       "0  [[7.4704005e-03 2.6792693e-03 1.4090404e-03 .....   \n",
       "1  [[4.2010704e-03 7.8280270e-03 1.1373262e-02 .....   \n",
       "2  [[5.4572225e-01 5.7083714e-01 2.7235401e-01 .....   \n",
       "3  [[1.0724894e-02 4.8451694e-03 5.4170354e-03 .....   \n",
       "4  [[7.7886350e-02 9.1004781e-02 8.2818374e-02 .....   \n",
       "\n",
       "                                   melspectrogram_db  \\\n",
       "0  [[0.62217146 0.54309154 0.49356484 ... 0.52826...   \n",
       "1  [[0.60325253 0.64836794 0.6754488  ... 0.64498...   \n",
       "2  [[0.9346018  0.9394601  0.8595633  ... 0.80871...   \n",
       "3  [[0.65940017 0.59973764 0.608114   ... 0.66112...   \n",
       "4  [[0.787444   0.80040586 0.7925567  ... 0.82759...   \n",
       "\n",
       "                                melspectrogram_delta  \\\n",
       "0  [[0.13463265 0.13463265 0.44799814 ... 0.19541...   \n",
       "1  [[0.31377184 0.31377184 0.5420561  ... 0.30939...   \n",
       "2  [[0.27737415 0.27737415 0.6147897  ... 0.32724...   \n",
       "3  [[0.         0.         0.5498908  ... 0.33616...   \n",
       "4  [[0.9619477  0.9619477  0.64808625 ... 0.42583...   \n",
       "\n",
       "                               melspectrogram_delta2  classID  \\\n",
       "0  [[0.8020765  0.8020765  0.5007016  ... 0.46830...        2   \n",
       "1  [[0.702321   0.702321   1.         ... 0.72668...        6   \n",
       "2  [[0.68184817 0.68184817 0.63078374 ... 0.38793...        0   \n",
       "3  [[1.         1.         0.54705155 ... 0.60177...        0   \n",
       "4  [[0.06081861 0.06081861 0.55305964 ... 0.33982...        7   \n",
       "\n",
       "              class  \n",
       "0  children_playing  \n",
       "1          gun_shot  \n",
       "2   air_conditioner  \n",
       "3   air_conditioner  \n",
       "4        jackhammer  "
      ]
     },
     "execution_count": 100,
     "metadata": {},
     "output_type": "execute_result"
    }
   ],
   "source": [
    "df2.head()"
   ]
  }
 ],
 "metadata": {
  "kernelspec": {
   "display_name": "Python 3 (ipykernel)",
   "language": "python",
   "name": "python3"
  },
  "language_info": {
   "codemirror_mode": {
    "name": "ipython",
    "version": 3
   },
   "file_extension": ".py",
   "mimetype": "text/x-python",
   "name": "python",
   "nbconvert_exporter": "python",
   "pygments_lexer": "ipython3",
   "version": "3.11.5"
  }
 },
 "nbformat": 4,
 "nbformat_minor": 5
}
