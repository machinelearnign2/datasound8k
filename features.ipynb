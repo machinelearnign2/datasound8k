{
 "cells": [
  {
   "cell_type": "code",
   "execution_count": 1,
   "id": "43d74baf",
   "metadata": {},
   "outputs": [],
   "source": [
    "import pandas as pd\n",
    "import os\n",
    "import librosa\n",
    "import numpy as np\n",
    "from IPython.display import Audio\n",
    "import matplotlib.pyplot as plt"
   ]
  },
  {
   "cell_type": "code",
   "execution_count": 2,
   "id": "87303686",
   "metadata": {},
   "outputs": [],
   "source": [
    "df = pd.read_csv('metadata/UrbanSound8K.csv')"
   ]
  },
  {
   "cell_type": "code",
   "execution_count": 3,
   "id": "b937d118",
   "metadata": {},
   "outputs": [],
   "source": [
    "list1=[]\n",
    "list2=[]\n",
    "list3=[]\n",
    "list4=[]\n",
    "list5=[]\n",
    "list6=[]\n",
    "list7=[]\n",
    "list8=[]\n",
    "list9=[]\n",
    "list10=[]\n",
    "\n",
    "fold1 = 'audio/fold1'\n",
    "list1 = os.listdir(fold1)\n",
    "\n",
    "fold2 = 'audio/fold2'\n",
    "list2 = os.listdir(fold2)\n",
    "\n",
    "fold3 = 'audio/fold3'\n",
    "list3 = os.listdir(fold3)\n",
    "\n",
    "fold4 = 'audio/fold4'\n",
    "list4 = os.listdir(fold4)\n",
    "\n",
    "fold5 = 'audio/fold5'\n",
    "list5 = os.listdir(fold5)\n",
    "\n",
    "fold6 = 'audio/fold6'\n",
    "list6 = os.listdir(fold6)\n",
    "\n",
    "fold7 = 'audio/fold7'\n",
    "list7 = os.listdir(fold7)\n",
    "\n",
    "fold8 = 'audio/fold8'\n",
    "list8 = os.listdir(fold8)\n",
    "\n",
    "fold9 = 'audio/fold9'\n",
    "list9 = os.listdir(fold9)\n",
    "\n",
    "fold10 = 'audio/fold10'\n",
    "list10 = os.listdir(fold10)\n",
    "\n",
    "lista = list1 + list2 + list3 + list4 + list5 + list6 + list7 + list8 + list9 + list10"
   ]
  },
  {
   "cell_type": "code",
   "execution_count": 4,
   "id": "86b9cde2",
   "metadata": {},
   "outputs": [],
   "source": [
    "def path_class(filename):\n",
    "    excerpt = df[df['slice_file_name'] == filename]\n",
    "    \n",
    "    if not excerpt.empty:\n",
    "        path_name = os.path.join('audio', 'fold'+str(excerpt.fold.values[0]), filename)\n",
    "        return path_name\n",
    "    \n",
    "    else:\n",
    "        return None"
   ]
  },
  {
   "cell_type": "code",
   "execution_count": 5,
   "id": "08cc2644",
   "metadata": {},
   "outputs": [],
   "source": [
    "path_list=[]\n",
    "for i in lista:\n",
    "    p = path_class(i)\n",
    "    if (p!=None):\n",
    "        path_list.append(p)"
   ]
  },
  {
   "cell_type": "code",
   "execution_count": 6,
   "id": "1d4fc0b8",
   "metadata": {},
   "outputs": [],
   "source": [
    "# Normalização min-max\n",
    "\n",
    "def normalize(y):\n",
    "    min_val = np.min(y)\n",
    "    max_val = np.max(y)\n",
    "    ynormalized = (y - min_val) / (max_val - min_val)\n",
    "    return ynormalized"
   ]
  },
  {
   "cell_type": "code",
   "execution_count": 7,
   "id": "5ae3879d",
   "metadata": {},
   "outputs": [],
   "source": [
    "sr = 44100\n",
    "hop_length=round(sr*0.0125)\n",
    "window_length=round(sr*0.023)\n",
    "n_fft=2**14\n",
    "mfcc_time_size = 4*sr//hop_length+1"
   ]
  },
  {
   "cell_type": "code",
   "execution_count": 8,
   "id": "b57acb97",
   "metadata": {},
   "outputs": [],
   "source": [
    "#Wave\n",
    "\n",
    "def wave(y):\n",
    "    ynormalized = normalize(y)\n",
    "    return ynormalized"
   ]
  },
  {
   "cell_type": "code",
   "execution_count": 9,
   "id": "eb2ca0ca",
   "metadata": {},
   "outputs": [],
   "source": [
    "#MFCC 13\n",
    "\n",
    "n_mfcc=13\n",
    "\n",
    "def mfcc13(y,n_mfcc=13):\n",
    "    mfcc = librosa.feature.mfcc(y=y,sr=sr,n_fft=n_fft,hop_length=hop_length,win_length=window_length,n_mfcc=n_mfcc)\n",
    "    y_mfcc13 = normalize(mfcc)\n",
    "    return y_mfcc13"
   ]
  },
  {
   "cell_type": "code",
   "execution_count": 10,
   "id": "2e426f07",
   "metadata": {},
   "outputs": [],
   "source": [
    "#MFCC 40\n",
    "\n",
    "n_mfcc=40\n",
    "\n",
    "def mfcc40(y,n_mfcc=40):\n",
    "    mfcc = librosa.feature.mfcc(y=y,sr=sr,n_fft=n_fft,hop_length=hop_length,win_length=window_length,n_mfcc=n_mfcc)\n",
    "    y_mfcc40 = normalize(mfcc)\n",
    "    return y_mfcc40"
   ]
  },
  {
   "cell_type": "code",
   "execution_count": 11,
   "id": "1f594b31",
   "metadata": {},
   "outputs": [],
   "source": [
    "#MFCC delta\n",
    "\n",
    "def mfcc_delta(y,n_mfcc=13):\n",
    "    y_mfcc13 = librosa.feature.mfcc(y=y,sr=sr,n_fft=n_fft,hop_length=hop_length,win_length=window_length,n_mfcc=n_mfcc)\n",
    "    mfcc_delta = librosa.feature.delta(y_mfcc13, width=3)\n",
    "    y_mfcc_delta = normalize(mfcc_delta)\n",
    "    \n",
    "    return y_mfcc_delta"
   ]
  },
  {
   "cell_type": "code",
   "execution_count": 12,
   "id": "5c9a751a",
   "metadata": {},
   "outputs": [],
   "source": [
    "#MFCC delta 2\n",
    "\n",
    "def mfcc_delta2(y, n_mfcc=13):\n",
    "    y_mfcc13 = librosa.feature.mfcc(y=y,sr=sr,n_fft=n_fft,hop_length=hop_length,win_length=window_length,n_mfcc=n_mfcc)\n",
    "    mfcc_delta2 = librosa.feature.delta(y_mfcc13, order=2, width=3)\n",
    "    y_mfcc_delta2 = normalize(mfcc_delta2)\n",
    "    \n",
    "    return y_mfcc_delta2"
   ]
  },
  {
   "cell_type": "code",
   "execution_count": 13,
   "id": "138ae0f2",
   "metadata": {},
   "outputs": [],
   "source": [
    "#Spectrogram\n",
    "\n",
    "def spectrogram(y):\n",
    "    stft = librosa.core.stft(y, hop_length = hop_length, n_fft = n_fft)\n",
    "    spectrogram = np.abs(stft)\n",
    "    y_spectrogram = normalize(spectrogram)\n",
    "    \n",
    "    return y_spectrogram"
   ]
  },
  {
   "cell_type": "code",
   "execution_count": 14,
   "id": "52ffb302",
   "metadata": {},
   "outputs": [],
   "source": [
    "#Logspectrogram\n",
    "\n",
    "def logspectrogram(y):\n",
    "    stft = librosa.core.stft(y, hop_length = hop_length, n_fft = n_fft)\n",
    "    spectrogram = np.abs(stft)\n",
    "    logspectrogram = librosa.amplitude_to_db(spectrogram)\n",
    "    y_logspectrogram = normalize(logspectrogram)\n",
    "    \n",
    "    return y_logspectrogram"
   ]
  },
  {
   "cell_type": "code",
   "execution_count": 15,
   "id": "de310cb6",
   "metadata": {},
   "outputs": [],
   "source": [
    "#Melspectrogram\n",
    "\n",
    "def melspectrogram(y):\n",
    "    stft = librosa.core.stft(y, hop_length = hop_length, n_fft = n_fft)\n",
    "    spectrogram = np.abs(stft)\n",
    "    melstft = librosa.feature.melspectrogram(S=spectrogram, sr=sr)\n",
    "    y_melstft = normalize(melstft)\n",
    "    \n",
    "    return y_melstft"
   ]
  },
  {
   "cell_type": "code",
   "execution_count": 16,
   "id": "54a50435",
   "metadata": {},
   "outputs": [],
   "source": [
    "#Melspectrogram db\n",
    "\n",
    "def melspectrogram_db(y):\n",
    "    stft = librosa.core.stft(y, hop_length = hop_length, n_fft = n_fft)\n",
    "    spectrogram = np.abs(stft)\n",
    "    melstft = librosa.feature.melspectrogram(S=spectrogram, sr=sr)\n",
    "    melstft_db = librosa.power_to_db(melstft, ref=np.max)\n",
    "    y_melstft_db = normalize(melstft_db)\n",
    "    \n",
    "    return y_melstft_db"
   ]
  },
  {
   "cell_type": "code",
   "execution_count": 17,
   "id": "449da0ce",
   "metadata": {},
   "outputs": [],
   "source": [
    "#Chromaspectrogram\n",
    "\n",
    "def chromaspectrogram(y):\n",
    "    stft = librosa.core.stft(y, hop_length = hop_length, n_fft = n_fft)\n",
    "    spectrogram = np.abs(stft)\n",
    "    chroma = librosa.feature.chroma_stft(y=y, S=spectrogram, sr=sr)\n",
    "    y_chroma = normalize(chroma)\n",
    "    \n",
    "    return y_chroma"
   ]
  },
  {
   "cell_type": "code",
   "execution_count": null,
   "id": "ae79f2d0",
   "metadata": {},
   "outputs": [],
   "source": [
    "#Data Frame\n",
    "\n",
    "newdata = pd.DataFrame()\n",
    "newdata['mfcc40'] = [np.zeros((40, mfcc_time_size)) for _ in range(len(path_list))]\n",
    "newdata['mfcc13'] = [np.zeros((13, mfcc_time_size)) for _ in range(len(path_list))]\n",
    "newdata['spectrogram'] = [np.empty((96001, 321), dtype=np.float32) for _ in range(len(path_list))]\n",
    "newdata['logspectrogram'] = [np.empty((96001, 321), dtype=np.float32) for _ in range(len(path_list))]\n",
    "newdata['melspectrogram'] = [np.empty((128, 321), dtype=np.float32) for _ in range(len(path_list))]\n",
    "newdata['melspectrogram_db'] = [np.empty((128, 321), dtype=np.float32) for _ in range(len(path_list))]\n",
    "newdata['melspectrogram_delta'] = [np.empty((13, 321), dtype=np.float32) for _ in range(len(path_list))]\n",
    "newdata['melspectrogram_delta2'] = [np.empty((13, 321), dtype=np.float32) for _ in range(len(path_list))]\n",
    "newdata['chromaspectrogram'] = [np.empty((12, 321), dtype=np.float32) for _ in range(len(path_list))]\n",
    "i=0\n",
    "for f in path_list:\n",
    "    #print(f)\n",
    "    f = f'{f}'\n",
    "    y, previous_sr = librosa.load(f, sr=None)\n",
    "    y_resample =librosa.resample(y, orig_sr=previous_sr, target_sr=sr)\n",
    "    \n",
    "    if len(y_resample)<4*sr:\n",
    "        # Calculate the number of times to repeat the audio\n",
    "        repeat = int(np.ceil(4 * sr / len(y_resample)))\n",
    "\n",
    "        # Repeat the audio\n",
    "        y_extended = np.tile(y_resample, repeat)\n",
    "\n",
    "        # Trim the array to the desired duration\n",
    "        y_extended = y_extended[:int(4 * sr)]\n",
    "\n",
    "    else:\n",
    "        y_extended = y_resample\n",
    "    \n",
    "    path_parts = f.split('/')\n",
    "    arquivo = path_parts[-1]\n",
    "    \n",
    "    if arquivo in df['slice_file_name'].values:\n",
    "        fold = df[df['slice_file_name'] == arquivo].iloc[0]['fold']\n",
    "        salience = df[df['slice_file_name'] == arquivo].iloc[0]['salience']\n",
    "        classID = df[df['slice_file_name'] == arquivo].iloc[0]['classID']\n",
    "        \n",
    "\n",
    "        newdata.at[i, 'file'] = arquivo\n",
    "        newdata.at[i, 'salience'] = salience\n",
    "        newdata.at[i, 'fold'] = fold\n",
    "        newdata.at[i, 'classID'] = classID\n",
    "                     \n",
    "    \n",
    "    # MFCCs 40\n",
    "    #newdata.at[i, 'mfcc40'] = mfcc40(y_extended)\n",
    "\n",
    "    # MFCCs 13\n",
    "    #newdata.at[i, 'mfcc13'] = mfcc13(y_extended)\n",
    "    \n",
    "    #Spectrogram\n",
    "    newdata.at[i, 'spectrogram'] = spectrogram(y_extended)\n",
    "    \n",
    "    #Log spectrogram\n",
    "    #newdata.at[i, 'logspectrogram'] = logspectrogram(y_extended)\n",
    "\n",
    "    #Chroma spectrogram\n",
    "    #newdata.at[i, 'chromaspectrogram'] = chromaspectrogram(y_extended)\n",
    "\n",
    "    #Mel spectrogram\n",
    "    #newdata.at[i, 'melspectrogram'] = melspectrogram(y_extended)\n",
    "\n",
    "    #Mel spectrogram DB\n",
    "    #newdata.at[i, 'melspectrogram_db'] = melspectrogram_db(y_extended)\n",
    "\n",
    "    #Mel spectrogram delta\n",
    "    #newdata.at[i, 'melspectrogram_delta'] = mfcc_delta(y_extended)\n",
    "\n",
    "    #Mel spectrogram delta ordem 2\n",
    "    #newdata.at[i, 'melspectrogram_delta2'] = mfcc_delta2(y_extended)\n",
    "        \n",
    "    i+=1\n",
    "\n",
    "columns = ['file', 'salience', 'fold', 'spectrogram', 'classID']\n",
    "\n",
    "newdata = newdata[columns]"
   ]
  },
  {
   "cell_type": "code",
   "execution_count": null,
   "id": "8d47c9c7",
   "metadata": {},
   "outputs": [],
   "source": [
    "#columns2 = ['logspectrogram', 'chromaspectrogram', 'melspectrogram', 'melspectrogram_db', 'melspectrogram_delta', 'melspectrogram_delta2']\n",
    "\n",
    "#newdata = newdata[columns1 + columns2]"
   ]
  },
  {
   "cell_type": "code",
   "execution_count": null,
   "id": "4d623706",
   "metadata": {},
   "outputs": [],
   "source": [
    "newdata.to_json('features3.json')"
   ]
  },
  {
   "cell_type": "code",
   "execution_count": null,
   "id": "c3a505cd",
   "metadata": {},
   "outputs": [],
   "source": [
    "df1 = pd.read_json('features3.json')"
   ]
  },
  {
   "cell_type": "code",
   "execution_count": null,
   "id": "5611c4c6",
   "metadata": {},
   "outputs": [],
   "source": [
    "df1"
   ]
  },
  {
   "cell_type": "code",
   "execution_count": null,
   "id": "842d08b7",
   "metadata": {},
   "outputs": [],
   "source": [
    "for i in range(0,8732):\n",
    "    a = df1.loc[i]['mfcc40']\n",
    "    b = np.array(a)\n",
    "    if (b.shape!=(40,321)):\n",
    "        print(b.shape)"
   ]
  }
 ],
 "metadata": {
  "kernelspec": {
   "display_name": "Python 3 (ipykernel)",
   "language": "python",
   "name": "python3"
  },
  "language_info": {
   "codemirror_mode": {
    "name": "ipython",
    "version": 3
   },
   "file_extension": ".py",
   "mimetype": "text/x-python",
   "name": "python",
   "nbconvert_exporter": "python",
   "pygments_lexer": "ipython3",
   "version": "3.11.5"
  }
 },
 "nbformat": 4,
 "nbformat_minor": 5
}
